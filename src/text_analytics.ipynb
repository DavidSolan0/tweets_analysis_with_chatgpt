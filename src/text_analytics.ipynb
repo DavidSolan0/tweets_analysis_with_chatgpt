{
 "cells": [
  {
   "cell_type": "code",
   "execution_count": 1,
   "metadata": {},
   "outputs": [],
   "source": [
    "import os\n",
    "import ast\n",
    "import time\n",
    "import json\n",
    "import pickle\n",
    "import pandas as pd\n",
    "\n",
    "import openai\n",
    "\n",
    "from utils import (\n",
    "    read_social_listening_data,\n",
    "    clean_text,\n",
    ")\n",
    "\n",
    "from credentials import OPENAI_API_KEY\n",
    "from codification import Codificacion"
   ]
  },
  {
   "cell_type": "code",
   "execution_count": 2,
   "metadata": {},
   "outputs": [],
   "source": [
    "# Configurar parámetros\n",
    "topics_batch_size = 30\n",
    "sentiment_batch_size = 50\n",
    "num_topicos = 3\n",
    "column_name = \"text\"\n",
    "id_column = \"ID\"\n",
    "cliente = \"sostenibilidad\""
   ]
  },
  {
   "cell_type": "code",
   "execution_count": 3,
   "metadata": {},
   "outputs": [
    {
     "name": "stdout",
     "output_type": "stream",
     "text": [
      "Ruta destino...../data/sostenibilidad\n",
      "Número de filas inicial: 776\n",
      "Número de filas después de eliminar duplicados: 737\n"
     ]
    }
   ],
   "source": [
    "# Lectura de los datos\n",
    "data = read_social_listening_data(cliente)\n",
    "print(\"Número de filas inicial:\", len(data))\n",
    "data.drop_duplicates([column_name], inplace=True)\n",
    "print(\"Número de filas después de eliminar duplicados:\", len(data))"
   ]
  },
  {
   "cell_type": "code",
   "execution_count": 4,
   "metadata": {},
   "outputs": [
    {
     "name": "stdout",
     "output_type": "stream",
     "text": [
      "Se crea una columna ID\n"
     ]
    },
    {
     "data": {
      "text/html": [
       "<div>\n",
       "<style scoped>\n",
       "    .dataframe tbody tr th:only-of-type {\n",
       "        vertical-align: middle;\n",
       "    }\n",
       "\n",
       "    .dataframe tbody tr th {\n",
       "        vertical-align: top;\n",
       "    }\n",
       "\n",
       "    .dataframe thead th {\n",
       "        text-align: right;\n",
       "    }\n",
       "</style>\n",
       "<table border=\"1\" class=\"dataframe\">\n",
       "  <thead>\n",
       "    <tr style=\"text-align: right;\">\n",
       "      <th></th>\n",
       "      <th>text</th>\n",
       "      <th>ID</th>\n",
       "    </tr>\n",
       "  </thead>\n",
       "  <tbody>\n",
       "    <tr>\n",
       "      <th>0</th>\n",
       "      <td>IMPULSADORA</td>\n",
       "      <td>0</td>\n",
       "    </tr>\n",
       "    <tr>\n",
       "      <th>1</th>\n",
       "      <td>Amigable con el medio ambiente</td>\n",
       "      <td>1</td>\n",
       "    </tr>\n",
       "    <tr>\n",
       "      <th>2</th>\n",
       "      <td>Aporte al impuesto del carbono</td>\n",
       "      <td>2</td>\n",
       "    </tr>\n",
       "    <tr>\n",
       "      <th>3</th>\n",
       "      <td>equidad</td>\n",
       "      <td>3</td>\n",
       "    </tr>\n",
       "    <tr>\n",
       "      <th>4</th>\n",
       "      <td>Menos plástico; ciclo cerrado de producción de...</td>\n",
       "      <td>4</td>\n",
       "    </tr>\n",
       "  </tbody>\n",
       "</table>\n",
       "</div>"
      ],
      "text/plain": [
       "                                                text  ID\n",
       "0                                        IMPULSADORA   0\n",
       "1                     Amigable con el medio ambiente   1\n",
       "2                     Aporte al impuesto del carbono   2\n",
       "3                                            equidad   3\n",
       "4  Menos plástico; ciclo cerrado de producción de...   4"
      ]
     },
     "execution_count": 4,
     "metadata": {},
     "output_type": "execute_result"
    }
   ],
   "source": [
    "# Definir ID\n",
    "if id_column in data.columns:\n",
    "    print(f\"La columna ID {(id_column)} ya existe\")\n",
    "else:\n",
    "    print(\"Se crea una columna ID\")\n",
    "    data[id_column] = range(0, len(data))\n",
    "\n",
    "data.head()"
   ]
  },
  {
   "cell_type": "code",
   "execution_count": 5,
   "metadata": {},
   "outputs": [],
   "source": [
    "# Limpiar el texto\n",
    "data[column_name] = clean_text(data, column_name)"
   ]
  },
  {
   "cell_type": "code",
   "execution_count": 6,
   "metadata": {},
   "outputs": [],
   "source": [
    "# Crear instancia de la clase Codificacion\n",
    "codificacion = Codificacion(openai_api_key=OPENAI_API_KEY)"
   ]
  },
  {
   "cell_type": "code",
   "execution_count": 21,
   "metadata": {},
   "outputs": [
    {
     "name": "stdout",
     "output_type": "stream",
     "text": [
      "Iteración: 0\n",
      "Iteración: 100\n",
      "Iteración: 200\n",
      "Iteración: 300\n",
      "Iteración: 400\n",
      "Iteración: 500\n",
      "Iteración: 600\n",
      "Iteración: 700\n"
     ]
    }
   ],
   "source": [
    "# Obtener los tópicos para cada frase\n",
    "topics = codificacion.get_topics(\n",
    "    data, batch_size=25, column_name=\"text\", id_column=\"ID\", num_topicos=3\n",
    ")\n",
    "\n",
    "# Obtener el sentimiento para cada frase\n",
    "sentiment = codificacion.get_sentiment(\n",
    "    data, batch_size=50, column_name=\"text\", id_column=\"ID\"\n",
    ")\n",
    "\n",
    "# Obtener la traducción para cada frase\n",
    "translation = codificacion.get_translation(\n",
    "    data, batch_size=50, column_name=\"text\", id_column=\"ID\"\n",
    ")\n",
    "\n",
    "# Obtener la correción ortográfica para cada frase\n",
    "spelling_correction = codificacion.get_spelling_correction(\n",
    "    data, batch_size=50, column_name=\"text\", id_column=\"ID\"\n",
    ")"
   ]
  },
  {
   "cell_type": "code",
   "execution_count": 7,
   "metadata": {},
   "outputs": [
    {
     "name": "stdout",
     "output_type": "stream",
     "text": [
      "Iteración: 0\n",
      "Iteración: 100\n",
      "Iteración: 200\n",
      "Iteración: 300\n",
      "Iteración: 400\n",
      "Iteración: 500\n",
      "Iteración: 600\n",
      "Iteración: 700\n"
     ]
    }
   ],
   "source": [
    "# Obtener el sentimiento para cada frase\n",
    "sentiment = codificacion.get_sentiment(\n",
    "    data, batch_size=50, column_name=\"text\", id_column=\"ID\"\n",
    ")"
   ]
  },
  {
   "cell_type": "code",
   "execution_count": 17,
   "metadata": {},
   "outputs": [
    {
     "name": "stdout",
     "output_type": "stream",
     "text": [
      "List saved as a pickle file.\n"
     ]
    }
   ],
   "source": [
    "import pickle\n",
    "\n",
    "file_path = \"sentiment.pkl\"\n",
    "\n",
    "with open(file_path, \"wb\") as file:\n",
    "    pickle.dump(sentiment, file)\n",
    "\n",
    "print(\"List saved as a pickle file.\")"
   ]
  },
  {
   "cell_type": "code",
   "execution_count": 13,
   "metadata": {},
   "outputs": [],
   "source": [
    "# Convertir la lista de JSON a dataframe\n",
    "df_topics = codificacion.from_json_list_to_df(topics)\n",
    "df_sentiment = codificacion.from_list_to_df(sentiment)\n",
    "df_translation = codificacion.from_json_list_to_df(translation)\n",
    "df_spelling_correction = codificacion.from_json_list_to_df(spelling_correction)"
   ]
  },
  {
   "cell_type": "code",
   "execution_count": 18,
   "metadata": {},
   "outputs": [
    {
     "name": "stdout",
     "output_type": "stream",
     "text": [
      "Root directory already exists at ../artifacts\\sostenibilidad\n"
     ]
    }
   ],
   "source": [
    "# Guardar los resultados en un archivo CSV\n",
    "codificacion.save_pandas_object(df_topics, \"../artifacts\", cliente, \"topics.csv\")\n",
    "codificacion.save_pandas_object(df_sentiment, \"../artifacts\", cliente, \"sentiment.csv\")\n",
    "codificacion.save_pandas_object(\n",
    "    df_translation, \"../artifacts\", cliente, \"tranlation.csv\"\n",
    ")\n",
    "codificacion.save_pandas_object(\n",
    "    df_spelling_correction, \"../artifacts\", cliente, \"spelling_correction.csv\"\n",
    ")"
   ]
  }
 ],
 "metadata": {
  "kernelspec": {
   "display_name": "Python 3 (ipykernel)",
   "language": "python",
   "name": "python3"
  },
  "language_info": {
   "codemirror_mode": {
    "name": "ipython",
    "version": 3
   },
   "file_extension": ".py",
   "mimetype": "text/x-python",
   "name": "python",
   "nbconvert_exporter": "python",
   "pygments_lexer": "ipython3",
   "version": "3.9.15"
  }
 },
 "nbformat": 4,
 "nbformat_minor": 2
}
