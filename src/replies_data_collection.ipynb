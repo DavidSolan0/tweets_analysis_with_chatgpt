{
 "cells": [
  {
   "cell_type": "code",
   "execution_count": 6,
   "id": "197d3f3c",
   "metadata": {},
   "outputs": [],
   "source": [
    "import time\n",
    "import json\n",
    "import tweepy \n",
    "import pandas as pd\n",
    "\n",
    "from credentials import (\n",
    "    BEARER_TOKEN,\n",
    "    API_KEY,\n",
    "    API_SECRET,\n",
    "    ACCESS_TOKEN,\n",
    "    ACCESS_TOKEN_SECRET,\n",
    ")"
   ]
  },
  {
   "cell_type": "code",
   "execution_count": 2,
   "id": "453756b3",
   "metadata": {},
   "outputs": [],
   "source": [
    "# Set up your Twitter API credentials\n",
    "consumer_key = API_KEY\n",
    "consumer_secret = API_SECRET\n",
    "access_token = ACCESS_TOKEN\n",
    "access_token_secret = ACCESS_TOKEN_SECRET"
   ]
  },
  {
   "cell_type": "code",
   "execution_count": 3,
   "id": "1c27b1cb",
   "metadata": {},
   "outputs": [],
   "source": [
    "# Authenticate with Twitter API\n",
    "auth = tweepy.OAuthHandler(consumer_key, consumer_secret)\n",
    "auth.set_access_token(access_token, access_token_secret)\n",
    "\n",
    "# Create a Tweepy API object\n",
    "api = tweepy.API(auth)"
   ]
  },
  {
   "cell_type": "code",
   "execution_count": 4,
   "id": "4eaf2d78",
   "metadata": {},
   "outputs": [],
   "source": [
    "# Specify the username and the tweet identifier (or URL)\n",
    "username = \"OpenAI\"\n",
    "tweet_url = \"https://twitter.com/petrogustavo/status/1666850099031420930\"  # Replace with the desired tweet URL"
   ]
  },
  {
   "cell_type": "code",
   "execution_count": 5,
   "id": "aaee9806",
   "metadata": {},
   "outputs": [
    {
     "name": "stdout",
     "output_type": "stream",
     "text": [
      "Tweet ID: 1666850099031420930\n"
     ]
    }
   ],
   "source": [
    "# Extract the tweet_id from the tweet URL\n",
    "tweet_id = tweet_url.split(\"/\")[-1]\n",
    "\n",
    "# Alternatively, if you have the tweet ID directly, you can assign it directly\n",
    "# tweet_id = \"123456789\"\n",
    "\n",
    "# Retrieve the tweet object using the tweet ID\n",
    "tweet = api.get_status(tweet_id)\n",
    "\n",
    "# Extract the tweet_id from the tweet object\n",
    "tweet_id = tweet.id_str\n",
    "\n",
    "# Print the tweet_id\n",
    "print(\"Tweet ID:\", tweet_id)"
   ]
  },
  {
   "cell_type": "code",
   "execution_count": 9,
   "id": "70c82665",
   "metadata": {},
   "outputs": [],
   "source": [
    "# Streaming Class\n",
    "\n",
    "class MyStream(tweepy.StreamingClient):\n",
    "    def __init__(self, auth, tweet_id, csv_file):\n",
    "        super().__init__(auth)\n",
    "        self.tweet_id = tweet_id\n",
    "        self.csv_file = csv_file\n",
    "        self.number_of_tweets = 0\n",
    "\n",
    "    def on_connect(self):\n",
    "        print(\"Connected\")\n",
    "\n",
    "    def on_data(self, raw_data):\n",
    "        try:\n",
    "            tweet = json.loads(raw_data)[\"data\"]\n",
    "            if self.is_reply_to_tweet(tweet):\n",
    "                self.process_tweet(tweet)\n",
    "                self.number_of_tweets += 1\n",
    "                if self.number_of_tweets % 100 == 0:\n",
    "                    self.save_to_csv()\n",
    "            time.sleep(0.2)\n",
    "        except Exception as e:\n",
    "            print(e)\n",
    "\n",
    "    def is_reply_to_tweet(self, tweet):\n",
    "        referenced_tweets = tweet.get(\"referenced_tweets\")\n",
    "        if referenced_tweets:\n",
    "            for referenced_tweet in referenced_tweets:\n",
    "                if referenced_tweet.get(\"type\") == \"replied_to\" and referenced_tweet.get(\"id\") == self.tweet_id:\n",
    "                    return True\n",
    "        return False\n",
    "\n",
    "    def process_tweet(self, tweet):\n",
    "        tweet_data = {\n",
    "            \"text\": tweet.get(\"text\"),\n",
    "            \"public_metrics\": tweet.get(\"public_metrics\"),\n",
    "            \"annotations\": tweet.get(\"annotations\"),\n",
    "            \"entities\": tweet.get(\"entities\"),\n",
    "            \"referenced_tweets\": tweet.get(\"referenced_tweets\"),\n",
    "            \"author_id\": tweet.get(\"author_id\"),\n",
    "            \"created_at\": tweet.get(\"created_at\")\n",
    "        }\n",
    "\n",
    "        # Add your custom logic here to handle the tweet data\n",
    "\n",
    "        print(tweet_data)  # Print the tweet data as an example\n",
    "\n",
    "    def save_to_csv(self):\n",
    "        df = pd.DataFrame(self.tweets)\n",
    "        df.to_csv(self.csv_file, index=False, mode=\"a\", header=not self.number_of_tweets)\n",
    "\n",
    "    def on_disconnect(self):\n",
    "        print(\"Disconnected\")\n"
   ]
  },
  {
   "cell_type": "code",
   "execution_count": 11,
   "id": "1ee00061",
   "metadata": {},
   "outputs": [
    {
     "name": "stderr",
     "output_type": "stream",
     "text": [
      "Stream encountered HTTP error: 401\n",
      "HTTP error response text: {\n",
      "  \"title\": \"Unauthorized\",\n",
      "  \"type\": \"about:blank\",\n",
      "  \"status\": 401,\n",
      "  \"detail\": \"Unauthorized\"\n",
      "}\n",
      "Stream encountered HTTP error: 401\n",
      "HTTP error response text: {\n",
      "  \"title\": \"Unauthorized\",\n",
      "  \"type\": \"about:blank\",\n",
      "  \"status\": 401,\n",
      "  \"detail\": \"Unauthorized\"\n",
      "}\n"
     ]
    },
    {
     "name": "stdout",
     "output_type": "stream",
     "text": [
      "Disconnected\n"
     ]
    },
    {
     "ename": "KeyboardInterrupt",
     "evalue": "",
     "output_type": "error",
     "traceback": [
      "\u001b[1;31m---------------------------------------------------------------------------\u001b[0m",
      "\u001b[1;31mKeyboardInterrupt\u001b[0m                         Traceback (most recent call last)",
      "Cell \u001b[1;32mIn[11], line 5\u001b[0m\n\u001b[0;32m      2\u001b[0m auth\u001b[38;5;241m.\u001b[39mset_access_token(access_token, access_token_secret)\n\u001b[0;32m      4\u001b[0m stream \u001b[38;5;241m=\u001b[39m MyStream(auth, tweet_id\u001b[38;5;241m=\u001b[39mtweet_id, csv_file\u001b[38;5;241m=\u001b[39m\u001b[38;5;124m\"\u001b[39m\u001b[38;5;124mstream_data.csv\u001b[39m\u001b[38;5;124m\"\u001b[39m)  \u001b[38;5;66;03m# Replace with the desired tweet ID and CSV filename/path\u001b[39;00m\n\u001b[1;32m----> 5\u001b[0m \u001b[43mstream\u001b[49m\u001b[38;5;241;43m.\u001b[39;49m\u001b[43mfilter\u001b[49m\u001b[43m(\u001b[49m\u001b[43m)\u001b[49m\n",
      "File \u001b[1;32m~\\Anaconda3\\envs\\lit-nlp\\lib\\site-packages\\tweepy\\streaming.py:806\u001b[0m, in \u001b[0;36mStreamingClient.filter\u001b[1;34m(self, threaded, **params)\u001b[0m\n\u001b[0;32m    804\u001b[0m     \u001b[38;5;28;01mreturn\u001b[39;00m \u001b[38;5;28mself\u001b[39m\u001b[38;5;241m.\u001b[39m_threaded_connect(method, endpoint, params\u001b[38;5;241m=\u001b[39mparams)\n\u001b[0;32m    805\u001b[0m \u001b[38;5;28;01melse\u001b[39;00m:\n\u001b[1;32m--> 806\u001b[0m     \u001b[38;5;28;43mself\u001b[39;49m\u001b[38;5;241;43m.\u001b[39;49m\u001b[43m_connect\u001b[49m\u001b[43m(\u001b[49m\u001b[43mmethod\u001b[49m\u001b[43m,\u001b[49m\u001b[43m \u001b[49m\u001b[43mendpoint\u001b[49m\u001b[43m,\u001b[49m\u001b[43m \u001b[49m\u001b[43mparams\u001b[49m\u001b[38;5;241;43m=\u001b[39;49m\u001b[43mparams\u001b[49m\u001b[43m)\u001b[49m\n",
      "File \u001b[1;32m~\\Anaconda3\\envs\\lit-nlp\\lib\\site-packages\\tweepy\\streaming.py:626\u001b[0m, in \u001b[0;36mStreamingClient._connect\u001b[1;34m(self, method, endpoint, **kwargs)\u001b[0m\n\u001b[0;32m    624\u001b[0m \u001b[38;5;28mself\u001b[39m\u001b[38;5;241m.\u001b[39msession\u001b[38;5;241m.\u001b[39mheaders[\u001b[38;5;124m\"\u001b[39m\u001b[38;5;124mAuthorization\u001b[39m\u001b[38;5;124m\"\u001b[39m] \u001b[38;5;241m=\u001b[39m \u001b[38;5;124mf\u001b[39m\u001b[38;5;124m\"\u001b[39m\u001b[38;5;124mBearer \u001b[39m\u001b[38;5;132;01m{\u001b[39;00m\u001b[38;5;28mself\u001b[39m\u001b[38;5;241m.\u001b[39mbearer_token\u001b[38;5;132;01m}\u001b[39;00m\u001b[38;5;124m\"\u001b[39m\n\u001b[0;32m    625\u001b[0m url \u001b[38;5;241m=\u001b[39m \u001b[38;5;124mf\u001b[39m\u001b[38;5;124m\"\u001b[39m\u001b[38;5;124mhttps://api.twitter.com/2/tweets/\u001b[39m\u001b[38;5;132;01m{\u001b[39;00mendpoint\u001b[38;5;132;01m}\u001b[39;00m\u001b[38;5;124m/stream\u001b[39m\u001b[38;5;124m\"\u001b[39m\n\u001b[1;32m--> 626\u001b[0m \u001b[38;5;28msuper\u001b[39m()\u001b[38;5;241m.\u001b[39m_connect(method, url, \u001b[38;5;241m*\u001b[39m\u001b[38;5;241m*\u001b[39mkwargs)\n",
      "File \u001b[1;32m~\\Anaconda3\\envs\\lit-nlp\\lib\\site-packages\\tweepy\\streaming.py:120\u001b[0m, in \u001b[0;36mBaseStream._connect\u001b[1;34m(self, method, url, auth, params, headers, body, timeout)\u001b[0m\n\u001b[0;32m    117\u001b[0m     \u001b[38;5;28;01mif\u001b[39;00m http_error_wait \u001b[38;5;241m<\u001b[39m http_429_error_wait_start:\n\u001b[0;32m    118\u001b[0m         http_error_wait \u001b[38;5;241m=\u001b[39m http_429_error_wait_start\n\u001b[1;32m--> 120\u001b[0m \u001b[43msleep\u001b[49m\u001b[43m(\u001b[49m\u001b[43mhttp_error_wait\u001b[49m\u001b[43m)\u001b[49m\n\u001b[0;32m    122\u001b[0m http_error_wait \u001b[38;5;241m*\u001b[39m\u001b[38;5;241m=\u001b[39m \u001b[38;5;241m2\u001b[39m\n\u001b[0;32m    123\u001b[0m \u001b[38;5;28;01mif\u001b[39;00m http_error_wait \u001b[38;5;241m>\u001b[39m http_error_wait_max:\n",
      "\u001b[1;31mKeyboardInterrupt\u001b[0m: "
     ]
    }
   ],
   "source": [
    "auth = tweepy.OAuthHandler(consumer_key, consumer_secret)\n",
    "auth.set_access_token(access_token, access_token_secret)\n",
    "\n",
    "stream = MyStream(auth, tweet_id=tweet_id, csv_file=\"stream_data.csv\")  # Replace with the desired tweet ID and CSV filename/path\n",
    "stream.filter()"
   ]
  },
  {
   "cell_type": "code",
   "execution_count": null,
   "id": "98a07f06",
   "metadata": {},
   "outputs": [],
   "source": []
  }
 ],
 "metadata": {
  "kernelspec": {
   "display_name": "Python 3 (ipykernel)",
   "language": "python",
   "name": "python3"
  },
  "language_info": {
   "codemirror_mode": {
    "name": "ipython",
    "version": 3
   },
   "file_extension": ".py",
   "mimetype": "text/x-python",
   "name": "python",
   "nbconvert_exporter": "python",
   "pygments_lexer": "ipython3",
   "version": "3.9.15"
  }
 },
 "nbformat": 4,
 "nbformat_minor": 5
}
